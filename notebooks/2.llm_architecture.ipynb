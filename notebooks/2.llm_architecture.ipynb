{
 "cells": [
  {
   "cell_type": "markdown",
   "metadata": {},
   "source": [
    "## Implementing a GPT model from scratch to generate text"
   ]
  },
  {
   "cell_type": "code",
   "execution_count": 1,
   "metadata": {},
   "outputs": [],
   "source": [
    "GPT_CONFIG_124M = {\n",
    "        \"vocab_size\": 50257, # Vocabulary size\n",
    "        \"context_length\": 1024, # Context length\n",
    "        \"emb_dim\": 768, # Embedding dimension\n",
    "        \"n_heads\": 12, # Number of attention heads\n",
    "        \"n_layers\": 12, # Number of layers\n",
    "        \"drop_rate\": 0.1, # Dropout rate\n",
    "        \"qkv_bias\": False # Query-Key-Value bias\n",
    "}"
   ]
  }
 ],
 "metadata": {
  "kernelspec": {
   "display_name": "lit-llm-usCjbgK0-py3.11",
   "language": "python",
   "name": "python3"
  },
  "language_info": {
   "codemirror_mode": {
    "name": "ipython",
    "version": 3
   },
   "file_extension": ".py",
   "mimetype": "text/x-python",
   "name": "python",
   "nbconvert_exporter": "python",
   "pygments_lexer": "ipython3",
   "version": "3.11.0"
  }
 },
 "nbformat": 4,
 "nbformat_minor": 2
}
